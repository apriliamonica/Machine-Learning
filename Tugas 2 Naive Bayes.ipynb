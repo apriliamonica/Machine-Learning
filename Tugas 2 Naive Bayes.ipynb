{
  "nbformat": 4,
  "nbformat_minor": 0,
  "metadata": {
    "colab": {
      "provenance": [],
      "authorship_tag": "ABX9TyOjNX5mNxZ/dq0yRY/UR8P+",
      "include_colab_link": true
    },
    "kernelspec": {
      "name": "python3",
      "display_name": "Python 3"
    },
    "language_info": {
      "name": "python"
    }
  },
  "cells": [
    {
      "cell_type": "markdown",
      "metadata": {
        "id": "view-in-github",
        "colab_type": "text"
      },
      "source": [
        "<a href=\"https://colab.research.google.com/github/apriliamonica/Machine-Learning/blob/main/Tugas%202%20Naive%20Bayes.ipynb\" target=\"_parent\"><img src=\"https://colab.research.google.com/assets/colab-badge.svg\" alt=\"Open In Colab\"/></a>"
      ]
    },
    {
      "cell_type": "code",
      "execution_count": 1,
      "metadata": {
        "id": "S_4CmWIP__yb",
        "colab": {
          "base_uri": "https://localhost:8080/"
        },
        "outputId": "f6a430c9-73ab-4aaf-a1a3-d0b53dd334b8"
      },
      "outputs": [
        {
          "output_type": "stream",
          "name": "stdout",
          "text": [
            "(150, 4)\n",
            "(150,)\n",
            "['setosa' 'versicolor' 'virginica']\n",
            ".. _iris_dataset:\n",
            "\n",
            "Iris plants dataset\n",
            "--------------------\n",
            "\n",
            "**Data Set Characteristics:**\n",
            "\n",
            ":Number of Instances: 150 (50 in each of three classes)\n",
            ":Number of Attributes: 4 numeric, predictive attributes and the class\n",
            ":Attribute Information:\n",
            "    - sepal length in cm\n",
            "    - sepal width in cm\n",
            "    - petal length in cm\n",
            "    - petal width in cm\n",
            "    - class:\n",
            "            - Iris-Setosa\n",
            "            - Iris-Versicolour\n",
            "            - Iris-Virginica\n",
            "\n",
            ":Summary Statistics:\n",
            "\n",
            "============== ==== ==== ======= ===== ====================\n",
            "                Min  Max   Mean    SD   Class Correlation\n",
            "============== ==== ==== ======= ===== ====================\n",
            "sepal length:   4.3  7.9   5.84   0.83    0.7826\n",
            "sepal width:    2.0  4.4   3.05   0.43   -0.4194\n",
            "petal length:   1.0  6.9   3.76   1.76    0.9490  (high!)\n",
            "petal width:    0.1  2.5   1.20   0.76    0.9565  (high!)\n",
            "============== ==== ==== ======= ===== ====================\n",
            "\n",
            ":Missing Attribute Values: None\n",
            ":Class Distribution: 33.3% for each of 3 classes.\n",
            ":Creator: R.A. Fisher\n",
            ":Donor: Michael Marshall (MARSHALL%PLU@io.arc.nasa.gov)\n",
            ":Date: July, 1988\n",
            "\n",
            "The famous Iris database, first used by Sir R.A. Fisher. The dataset is taken\n",
            "from Fisher's paper. Note that it's the same as in R, but not as in the UCI\n",
            "Machine Learning Repository, which has two wrong data points.\n",
            "\n",
            "This is perhaps the best known database to be found in the\n",
            "pattern recognition literature.  Fisher's paper is a classic in the field and\n",
            "is referenced frequently to this day.  (See Duda & Hart, for example.)  The\n",
            "data set contains 3 classes of 50 instances each, where each class refers to a\n",
            "type of iris plant.  One class is linearly separable from the other 2; the\n",
            "latter are NOT linearly separable from each other.\n",
            "\n",
            ".. dropdown:: References\n",
            "\n",
            "  - Fisher, R.A. \"The use of multiple measurements in taxonomic problems\"\n",
            "    Annual Eugenics, 7, Part II, 179-188 (1936); also in \"Contributions to\n",
            "    Mathematical Statistics\" (John Wiley, NY, 1950).\n",
            "  - Duda, R.O., & Hart, P.E. (1973) Pattern Classification and Scene Analysis.\n",
            "    (Q327.D83) John Wiley & Sons.  ISBN 0-471-22361-1.  See page 218.\n",
            "  - Dasarathy, B.V. (1980) \"Nosing Around the Neighborhood: A New System\n",
            "    Structure and Classification Rule for Recognition in Partially Exposed\n",
            "    Environments\".  IEEE Transactions on Pattern Analysis and Machine\n",
            "    Intelligence, Vol. PAMI-2, No. 1, 67-71.\n",
            "  - Gates, G.W. (1972) \"The Reduced Nearest Neighbor Rule\".  IEEE Transactions\n",
            "    on Information Theory, May 1972, 431-433.\n",
            "  - See also: 1988 MLC Proceedings, 54-64.  Cheeseman et al\"s AUTOCLASS II\n",
            "    conceptual clustering system finds 3 classes in the data.\n",
            "  - Many, many more ...\n",
            "\n",
            "Train set: (120, 4) (120,)\n",
            "Test set: (30, 4) (30,)\n",
            "Predicted: [2 0 2 2 2]\n",
            "Actual: [2 0 2 2 2]\n",
            "Akurasi untuk 20% Data Uji: 0.9666666666666667\n",
            "Akurasi untuk 30% Data Uji: 0.9777777777777777\n",
            "Akurasi untuk 40% Data Uji: 0.9666666666666667\n"
          ]
        }
      ],
      "source": [
        "import numpy as np\n",
        "import pandas as pd\n",
        "from sklearn.model_selection import train_test_split\n",
        "from sklearn.naive_bayes import GaussianNB\n",
        "from sklearn.metrics import accuracy_score\n",
        "import matplotlib.pyplot as plt\n",
        "\n",
        "from sklearn import datasets\n",
        "iris = datasets.load_iris()\n",
        "X = iris.data\n",
        "y = iris.target\n",
        "print(X.shape)\n",
        "print(y.shape)\n",
        "print(iris.target_names)\n",
        "print(iris.DESCR)\n",
        "\n",
        "X_train, X_test, y_train, y_test = train_test_split(X, y, test_size=0.2, random_state=4)\n",
        "print('Train set:', X_train.shape, y_train.shape)\n",
        "print('Test set:', X_test.shape, y_test.shape)\n",
        "\n",
        "model = GaussianNB()\n",
        "model.fit(X_train, y_train)\n",
        "\n",
        "y_pred = model.predict(X_test)\n",
        "print(\"Predicted:\", y_pred[:5])\n",
        "print(\"Actual:\", y_test[:5])\n",
        "\n",
        "accuracy_20 = accuracy_score(y_test, y_pred)\n",
        "print(\"Akurasi untuk 20% Data Uji:\", accuracy_20)\n",
        "X_train, X_test, y_train, y_test = train_test_split(X, y, test_size=0.3, random_state=4)\n",
        "model.fit(X_train, y_train)\n",
        "y_pred = model.predict(X_test)\n",
        "accuracy_30 = accuracy_score(y_test, y_pred)\n",
        "print(\"Akurasi untuk 30% Data Uji:\", accuracy_30)\n",
        "X_train, X_test, y_train, y_test = train_test_split(X, y, test_size=0.4, random_state=4)\n",
        "model.fit(X_train, y_train)\n",
        "y_pred = model.predict(X_test)\n",
        "accuracy_40 = accuracy_score(y_test, y_pred)\n",
        "print(\"Akurasi untuk 40% Data Uji:\", accuracy_40)\n",
        "\n",
        "\n"
      ]
    },
    {
      "cell_type": "code",
      "source": [
        "import numpy as np\n",
        "import pandas as pd\n",
        "from sklearn.model_selection import train_test_split\n",
        "from sklearn.naive_bayes import GaussianNB\n",
        "from sklearn.metrics import accuracy_score\n",
        "import matplotlib.pyplot as plt\n",
        "from sklearn import datasets\n",
        "\n",
        "iris = datasets.load_iris()\n",
        "X = iris.data\n",
        "y = iris.target\n",
        "print(X.shape)\n",
        "print(y.shape)\n",
        "print(iris.target_names)\n",
        "print(iris.DESCR)\n",
        "\n",
        "results = []\n",
        "for test_size in [0.2, 0.3, 0.4]:\n",
        "    X_train, X_test, y_train, y_test = train_test_split(X, y, test_size=test_size, random_state=4)\n",
        "    model = GaussianNB()\n",
        "    model.fit(X_train, y_train)\n",
        "    y_pred = model.predict(X_test)\n",
        "    accuracy = accuracy_score(y_test, y_pred)\n",
        "    results.append([f\"{int(test_size * 100)}%\", round(accuracy, 4)])\n",
        "    df_results = pd.DataFrame(results, columns=[\"Data Uji\", \"Akurasi\"])\n",
        "print(tabulate(df_results, headers=\"keys\", tablefmt=\"grid\"))\n"
      ],
      "metadata": {
        "colab": {
          "base_uri": "https://localhost:8080/"
        },
        "id": "XCB4d83zFt-z",
        "outputId": "e759bafe-a9ef-4bb6-976e-48b47736c313"
      },
      "execution_count": 13,
      "outputs": [
        {
          "output_type": "stream",
          "name": "stdout",
          "text": [
            "(150, 4)\n",
            "(150,)\n",
            "['setosa' 'versicolor' 'virginica']\n",
            ".. _iris_dataset:\n",
            "\n",
            "Iris plants dataset\n",
            "--------------------\n",
            "\n",
            "**Data Set Characteristics:**\n",
            "\n",
            ":Number of Instances: 150 (50 in each of three classes)\n",
            ":Number of Attributes: 4 numeric, predictive attributes and the class\n",
            ":Attribute Information:\n",
            "    - sepal length in cm\n",
            "    - sepal width in cm\n",
            "    - petal length in cm\n",
            "    - petal width in cm\n",
            "    - class:\n",
            "            - Iris-Setosa\n",
            "            - Iris-Versicolour\n",
            "            - Iris-Virginica\n",
            "\n",
            ":Summary Statistics:\n",
            "\n",
            "============== ==== ==== ======= ===== ====================\n",
            "                Min  Max   Mean    SD   Class Correlation\n",
            "============== ==== ==== ======= ===== ====================\n",
            "sepal length:   4.3  7.9   5.84   0.83    0.7826\n",
            "sepal width:    2.0  4.4   3.05   0.43   -0.4194\n",
            "petal length:   1.0  6.9   3.76   1.76    0.9490  (high!)\n",
            "petal width:    0.1  2.5   1.20   0.76    0.9565  (high!)\n",
            "============== ==== ==== ======= ===== ====================\n",
            "\n",
            ":Missing Attribute Values: None\n",
            ":Class Distribution: 33.3% for each of 3 classes.\n",
            ":Creator: R.A. Fisher\n",
            ":Donor: Michael Marshall (MARSHALL%PLU@io.arc.nasa.gov)\n",
            ":Date: July, 1988\n",
            "\n",
            "The famous Iris database, first used by Sir R.A. Fisher. The dataset is taken\n",
            "from Fisher's paper. Note that it's the same as in R, but not as in the UCI\n",
            "Machine Learning Repository, which has two wrong data points.\n",
            "\n",
            "This is perhaps the best known database to be found in the\n",
            "pattern recognition literature.  Fisher's paper is a classic in the field and\n",
            "is referenced frequently to this day.  (See Duda & Hart, for example.)  The\n",
            "data set contains 3 classes of 50 instances each, where each class refers to a\n",
            "type of iris plant.  One class is linearly separable from the other 2; the\n",
            "latter are NOT linearly separable from each other.\n",
            "\n",
            ".. dropdown:: References\n",
            "\n",
            "  - Fisher, R.A. \"The use of multiple measurements in taxonomic problems\"\n",
            "    Annual Eugenics, 7, Part II, 179-188 (1936); also in \"Contributions to\n",
            "    Mathematical Statistics\" (John Wiley, NY, 1950).\n",
            "  - Duda, R.O., & Hart, P.E. (1973) Pattern Classification and Scene Analysis.\n",
            "    (Q327.D83) John Wiley & Sons.  ISBN 0-471-22361-1.  See page 218.\n",
            "  - Dasarathy, B.V. (1980) \"Nosing Around the Neighborhood: A New System\n",
            "    Structure and Classification Rule for Recognition in Partially Exposed\n",
            "    Environments\".  IEEE Transactions on Pattern Analysis and Machine\n",
            "    Intelligence, Vol. PAMI-2, No. 1, 67-71.\n",
            "  - Gates, G.W. (1972) \"The Reduced Nearest Neighbor Rule\".  IEEE Transactions\n",
            "    on Information Theory, May 1972, 431-433.\n",
            "  - See also: 1988 MLC Proceedings, 54-64.  Cheeseman et al\"s AUTOCLASS II\n",
            "    conceptual clustering system finds 3 classes in the data.\n",
            "  - Many, many more ...\n",
            "\n",
            "+----+------------+-----------+\n",
            "|    | Data Uji   |   Akurasi |\n",
            "+====+============+===========+\n",
            "|  0 | 20%        |    0.9667 |\n",
            "+----+------------+-----------+\n",
            "|  1 | 30%        |    0.9778 |\n",
            "+----+------------+-----------+\n",
            "|  2 | 40%        |    0.9667 |\n",
            "+----+------------+-----------+\n"
          ]
        }
      ]
    },
    {
      "cell_type": "code",
      "source": [
        "!pip install tabulate"
      ],
      "metadata": {
        "colab": {
          "base_uri": "https://localhost:8080/"
        },
        "id": "LPH8nlPxHFKT",
        "outputId": "494a2b16-308e-4994-eba0-b5980cf51159"
      },
      "execution_count": 12,
      "outputs": [
        {
          "output_type": "stream",
          "name": "stdout",
          "text": [
            "Requirement already satisfied: tabulate in /usr/local/lib/python3.11/dist-packages (0.9.0)\n"
          ]
        }
      ]
    },
    {
      "cell_type": "code",
      "source": [
        "import numpy as np\n",
        "import pandas as pd\n",
        "from sklearn.model_selection import train_test_split\n",
        "from sklearn.naive_bayes import GaussianNB\n",
        "from sklearn.metrics import accuracy_score\n",
        "from sklearn import datasets\n",
        "\n",
        "iris = datasets.load_iris()\n",
        "X, y = iris.data, iris.target\n",
        "\n",
        "results = []\n",
        "\n",
        "for test_size in [0.2, 0.3, 0.4]:\n",
        "    X_train, X_test, y_train, y_test = train_test_split(X, y, test_size=test_size, random_state=4)\n",
        "    model = GaussianNB().fit(X_train, y_train)\n",
        "    accuracy = accuracy_score(y_test, model.predict(X_test))\n",
        "    results.append([f\"{int(test_size * 100)}%\", round(accuracy, 4)])\n",
        "\n",
        "df_results = pd.DataFrame(results, columns=[\"Data Uji\", \"Akurasi\"])\n",
        "print(df_results)\n"
      ],
      "metadata": {
        "colab": {
          "base_uri": "https://localhost:8080/"
        },
        "id": "y9ILyUiSX_oO",
        "outputId": "bafd22be-14fc-4554-d6ac-e49f9ce89ff7"
      },
      "execution_count": 14,
      "outputs": [
        {
          "output_type": "stream",
          "name": "stdout",
          "text": [
            "  Data Uji  Akurasi\n",
            "0      20%   0.9667\n",
            "1      30%   0.9778\n",
            "2      40%   0.9667\n"
          ]
        }
      ]
    }
  ]
}